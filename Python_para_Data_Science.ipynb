{
  "nbformat": 4,
  "nbformat_minor": 0,
  "metadata": {
    "colab": {
      "provenance": [],
      "include_colab_link": true
    },
    "kernelspec": {
      "name": "python3",
      "display_name": "Python 3"
    },
    "language_info": {
      "name": "python"
    }
  },
  "cells": [
    {
      "cell_type": "markdown",
      "metadata": {
        "id": "view-in-github",
        "colab_type": "text"
      },
      "source": [
        "<a href=\"https://colab.research.google.com/github/gregory-crz/BD_Postgres_M5_P4/blob/main/Python_para_Data_Science.ipynb\" target=\"_parent\"><img src=\"https://colab.research.google.com/assets/colab-badge.svg\" alt=\"Open In Colab\"/></a>"
      ]
    },
    {
      "cell_type": "markdown",
      "source": [
        "# <font color=green> **PYTHON PARA DATA SCIENCE**\n",
        "---"
      ],
      "metadata": {
        "id": "AGc2Cf4cBwd7"
      }
    },
    {
      "cell_type": "markdown",
      "source": [
        "## <font color=green> 1. BIBLIOTECAS\n",
        "---"
      ],
      "metadata": {
        "id": "fH2br9y9CYZ8"
      }
    },
    {
      "cell_type": "markdown",
      "source": [
        "## 1.1 Instalación e importación de bibliotecas\n",
        "\n",
        "En el lenguaje Python se utiliza bastante el concepto de bibliotecas como un conjunto de módulos y funciones útiles para el usuario. Estas favorecen la reducción del uso de códigos en el proyecto, manteniendo únicamente los recursos necesarios para la tarea que deseamos realizar."
      ],
      "metadata": {
        "id": "jjEKgfiuFzHz"
      }
    },
    {
      "cell_type": "markdown",
      "source": [
        "### Instalando una biblioteca"
      ],
      "metadata": {
        "id": "JjpazCgqDRfZ"
      }
    },
    {
      "cell_type": "markdown",
      "source": [
        "Para instalar o actualizar una biblioteca en Python, podemos acudir a `pip` que es un gestor de bibliotecas en Python."
      ],
      "metadata": {
        "id": "_qnuIo7oIQYx"
      }
    },
    {
      "cell_type": "markdown",
      "source": [
        "Existe también PYPI que es un repositorio de bibliotecas Python que contiene las bibliotecas más utilizadas por la comunidad junto a su respectiva documentación.\n",
        "\n",
        "- PYPI ([https://pypi.org/](https://pypi.org/))"
      ],
      "metadata": {
        "id": "IHTmQnlXInD1"
      }
    },
    {
      "cell_type": "code",
      "source": [
        "!pip install matplotlib"
      ],
      "metadata": {
        "id": "Rv5sIo7NM5VS",
        "colab": {
          "base_uri": "https://localhost:8080/"
        },
        "outputId": "79078c94-4582-4852-babc-7dca25edbd48"
      },
      "execution_count": 1,
      "outputs": [
        {
          "output_type": "stream",
          "name": "stdout",
          "text": [
            "Requirement already satisfied: matplotlib in /usr/local/lib/python3.12/dist-packages (3.10.0)\n",
            "Requirement already satisfied: contourpy>=1.0.1 in /usr/local/lib/python3.12/dist-packages (from matplotlib) (1.3.3)\n",
            "Requirement already satisfied: cycler>=0.10 in /usr/local/lib/python3.12/dist-packages (from matplotlib) (0.12.1)\n",
            "Requirement already satisfied: fonttools>=4.22.0 in /usr/local/lib/python3.12/dist-packages (from matplotlib) (4.60.1)\n",
            "Requirement already satisfied: kiwisolver>=1.3.1 in /usr/local/lib/python3.12/dist-packages (from matplotlib) (1.4.9)\n",
            "Requirement already satisfied: numpy>=1.23 in /usr/local/lib/python3.12/dist-packages (from matplotlib) (2.0.2)\n",
            "Requirement already satisfied: packaging>=20.0 in /usr/local/lib/python3.12/dist-packages (from matplotlib) (25.0)\n",
            "Requirement already satisfied: pillow>=8 in /usr/local/lib/python3.12/dist-packages (from matplotlib) (11.3.0)\n",
            "Requirement already satisfied: pyparsing>=2.3.1 in /usr/local/lib/python3.12/dist-packages (from matplotlib) (3.2.5)\n",
            "Requirement already satisfied: python-dateutil>=2.7 in /usr/local/lib/python3.12/dist-packages (from matplotlib) (2.9.0.post0)\n",
            "Requirement already satisfied: six>=1.5 in /usr/local/lib/python3.12/dist-packages (from python-dateutil>=2.7->matplotlib) (1.17.0)\n"
          ]
        }
      ]
    },
    {
      "cell_type": "code",
      "source": [
        "matplotlib.__version__"
      ],
      "metadata": {
        "id": "REYsDRqHM6hN",
        "colab": {
          "base_uri": "https://localhost:8080/",
          "height": 141
        },
        "outputId": "7f5e4c73-ab42-48b2-ac73-901fbc1ac36c"
      },
      "execution_count": 2,
      "outputs": [
        {
          "output_type": "error",
          "ename": "NameError",
          "evalue": "name 'matplotlib' is not defined",
          "traceback": [
            "\u001b[0;31m---------------------------------------------------------------------------\u001b[0m",
            "\u001b[0;31mNameError\u001b[0m                                 Traceback (most recent call last)",
            "\u001b[0;32m/tmp/ipython-input-3398413421.py\u001b[0m in \u001b[0;36m<cell line: 0>\u001b[0;34m()\u001b[0m\n\u001b[0;32m----> 1\u001b[0;31m \u001b[0mmatplotlib\u001b[0m\u001b[0;34m.\u001b[0m\u001b[0m__version__\u001b[0m\u001b[0;34m\u001b[0m\u001b[0;34m\u001b[0m\u001b[0m\n\u001b[0m",
            "\u001b[0;31mNameError\u001b[0m: name 'matplotlib' is not defined"
          ]
        }
      ]
    },
    {
      "cell_type": "markdown",
      "source": [
        "### Importando una biblioteca"
      ],
      "metadata": {
        "id": "A76TbnDbDehe"
      }
    },
    {
      "cell_type": "code",
      "source": [
        "import matplotlib\n"
      ],
      "metadata": {
        "id": "_xUxLlZFM728"
      },
      "execution_count": 4,
      "outputs": []
    },
    {
      "cell_type": "code",
      "source": [
        "#!pip install matplotlib==3.8.1"
      ],
      "metadata": {
        "id": "xy035zQzM75b",
        "colab": {
          "base_uri": "https://localhost:8080/",
          "height": 739
        },
        "outputId": "070e8419-a9ab-47c7-9afe-40e826a8de80"
      },
      "execution_count": 5,
      "outputs": [
        {
          "output_type": "stream",
          "name": "stdout",
          "text": [
            "Collecting matplotlib==3.8.1\n",
            "  Downloading matplotlib-3.8.1-cp312-cp312-manylinux_2_17_x86_64.manylinux2014_x86_64.whl.metadata (5.8 kB)\n",
            "Requirement already satisfied: contourpy>=1.0.1 in /usr/local/lib/python3.12/dist-packages (from matplotlib==3.8.1) (1.3.3)\n",
            "Requirement already satisfied: cycler>=0.10 in /usr/local/lib/python3.12/dist-packages (from matplotlib==3.8.1) (0.12.1)\n",
            "Requirement already satisfied: fonttools>=4.22.0 in /usr/local/lib/python3.12/dist-packages (from matplotlib==3.8.1) (4.60.1)\n",
            "Requirement already satisfied: kiwisolver>=1.3.1 in /usr/local/lib/python3.12/dist-packages (from matplotlib==3.8.1) (1.4.9)\n",
            "Collecting numpy<2,>=1.21 (from matplotlib==3.8.1)\n",
            "  Downloading numpy-1.26.4-cp312-cp312-manylinux_2_17_x86_64.manylinux2014_x86_64.whl.metadata (61 kB)\n",
            "\u001b[2K     \u001b[90m━━━━━━━━━━━━━━━━━━━━━━━━━━━━━━━━━━━━━━━━\u001b[0m \u001b[32m61.0/61.0 kB\u001b[0m \u001b[31m2.2 MB/s\u001b[0m eta \u001b[36m0:00:00\u001b[0m\n",
            "\u001b[?25hRequirement already satisfied: packaging>=20.0 in /usr/local/lib/python3.12/dist-packages (from matplotlib==3.8.1) (25.0)\n",
            "Requirement already satisfied: pillow>=8 in /usr/local/lib/python3.12/dist-packages (from matplotlib==3.8.1) (11.3.0)\n",
            "Requirement already satisfied: pyparsing>=2.3.1 in /usr/local/lib/python3.12/dist-packages (from matplotlib==3.8.1) (3.2.5)\n",
            "Requirement already satisfied: python-dateutil>=2.7 in /usr/local/lib/python3.12/dist-packages (from matplotlib==3.8.1) (2.9.0.post0)\n",
            "Requirement already satisfied: six>=1.5 in /usr/local/lib/python3.12/dist-packages (from python-dateutil>=2.7->matplotlib==3.8.1) (1.17.0)\n",
            "Downloading matplotlib-3.8.1-cp312-cp312-manylinux_2_17_x86_64.manylinux2014_x86_64.whl (11.6 MB)\n",
            "\u001b[2K   \u001b[90m━━━━━━━━━━━━━━━━━━━━━━━━━━━━━━━━━━━━━━━━\u001b[0m \u001b[32m11.6/11.6 MB\u001b[0m \u001b[31m73.5 MB/s\u001b[0m eta \u001b[36m0:00:00\u001b[0m\n",
            "\u001b[?25hDownloading numpy-1.26.4-cp312-cp312-manylinux_2_17_x86_64.manylinux2014_x86_64.whl (18.0 MB)\n",
            "\u001b[2K   \u001b[90m━━━━━━━━━━━━━━━━━━━━━━━━━━━━━━━━━━━━━━━━\u001b[0m \u001b[32m18.0/18.0 MB\u001b[0m \u001b[31m61.8 MB/s\u001b[0m eta \u001b[36m0:00:00\u001b[0m\n",
            "\u001b[?25hInstalling collected packages: numpy, matplotlib\n",
            "  Attempting uninstall: numpy\n",
            "    Found existing installation: numpy 2.0.2\n",
            "    Uninstalling numpy-2.0.2:\n",
            "      Successfully uninstalled numpy-2.0.2\n",
            "  Attempting uninstall: matplotlib\n",
            "    Found existing installation: matplotlib 3.10.0\n",
            "    Uninstalling matplotlib-3.10.0:\n",
            "      Successfully uninstalled matplotlib-3.10.0\n",
            "\u001b[31mERROR: pip's dependency resolver does not currently take into account all the packages that are installed. This behaviour is the source of the following dependency conflicts.\n",
            "opencv-contrib-python 4.12.0.88 requires numpy<2.3.0,>=2; python_version >= \"3.9\", but you have numpy 1.26.4 which is incompatible.\n",
            "jaxlib 0.7.2 requires numpy>=2.0, but you have numpy 1.26.4 which is incompatible.\n",
            "opencv-python-headless 4.12.0.88 requires numpy<2.3.0,>=2; python_version >= \"3.9\", but you have numpy 1.26.4 which is incompatible.\n",
            "jax 0.7.2 requires numpy>=2.0, but you have numpy 1.26.4 which is incompatible.\n",
            "pytensor 2.35.1 requires numpy>=2.0, but you have numpy 1.26.4 which is incompatible.\n",
            "thinc 8.3.6 requires numpy<3.0.0,>=2.0.0, but you have numpy 1.26.4 which is incompatible.\n",
            "opencv-python 4.12.0.88 requires numpy<2.3.0,>=2; python_version >= \"3.9\", but you have numpy 1.26.4 which is incompatible.\u001b[0m\u001b[31m\n",
            "\u001b[0mSuccessfully installed matplotlib-3.8.1 numpy-1.26.4\n"
          ]
        },
        {
          "output_type": "display_data",
          "data": {
            "application/vnd.colab-display-data+json": {
              "pip_warning": {
                "packages": [
                  "matplotlib",
                  "mpl_toolkits",
                  "numpy"
                ]
              },
              "id": "768729e949de4c95a4bfba5e604f5067"
            }
          },
          "metadata": {}
        }
      ]
    },
    {
      "cell_type": "markdown",
      "source": [
        "## 1.2 Utilizando módulos/bibliotecas\n",
        "\n",
        "- Documentación de Python (https://docs.python.org/es/3/)"
      ],
      "metadata": {
        "id": "oMxkV9-6GXwH"
      }
    },
    {
      "cell_type": "markdown",
      "source": [
        "#### Ejemplo 1: Vamos a probar la biblioteca Matplotlib para un ejemplo sobre el cálculo de los promedios de notas de los estudiantes de una clase.\n",
        "\n",
        "(https://matplotlib.org/stable/tutorials/introductory/pyplot.html)"
      ],
      "metadata": {
        "id": "W1MHaXB2Q7tT"
      }
    },
    {
      "cell_type": "code",
      "source": [
        "import matplotlib.pyplot as plt\n"
      ],
      "metadata": {
        "id": "hme-WlDYM-Od"
      },
      "execution_count": 1,
      "outputs": []
    },
    {
      "cell_type": "code",
      "source": [
        "estudiantes = ['Juan', 'María', 'Jose']\n",
        "notas = [9, 8.5, 6.5]"
      ],
      "metadata": {
        "id": "mv1h3vJsM-RK"
      },
      "execution_count": 2,
      "outputs": []
    },
    {
      "cell_type": "code",
      "source": [
        "plt.bar(x= estudiantes, height=notas)\n",
        "plt.show()"
      ],
      "metadata": {
        "id": "GK77H828M-Zk",
        "colab": {
          "base_uri": "https://localhost:8080/",
          "height": 430
        },
        "outputId": "f166e7d7-5a0b-46d6-b9b9-0a3917fbfb40"
      },
      "execution_count": 3,
      "outputs": [
        {
          "output_type": "display_data",
          "data": {
            "text/plain": [
              "<Figure size 640x480 with 1 Axes>"
            ],
            "image/png": "[encoded data removed]"
          },
          "metadata": {}
        }
      ]
    },
    {
      "cell_type": "markdown",
      "source": [
        "#### Ejemplo 2: Vamos a seleccionar aleatoriamente a un alumno para presentar su trabajo de ciencia de datos usando la biblioteca `random`.\n",
        "\n",
        "(https://docs.python.org/es/3/library/random.html)"
      ],
      "metadata": {
        "id": "5G6u4ZRYRIFZ"
      }
    },
    {
      "cell_type": "code",
      "source": [
        "estudiantes2 = ['Juan', 'María', 'Jose', 'Érica']"
      ],
      "metadata": {
        "id": "Y4o2AvhWNBdM"
      },
      "execution_count": 5,
      "outputs": []
    },
    {
      "cell_type": "code",
      "source": [
        "import random"
      ],
      "metadata": {
        "id": "9fXfsVnANBiG"
      },
      "execution_count": 6,
      "outputs": []
    },
    {
      "cell_type": "markdown",
      "source": [
        "<font color=green>**Tip:**</font> Podrás notar a medida que avanzas en los ejercicios la importancia de acudir a la documentación para aprender cómo utilizar un método de algún módulo en el lenguaje Python.\n",
        "\n",
        "El método `help()`, por ejemplo, retorna una descripción sobre una variable, método o clase.\n",
        "\n",
        "https://docs.python.org/es/3/library/functions.html?#help"
      ],
      "metadata": {
        "id": "N-XJrnISGpTN"
      }
    },
    {
      "cell_type": "code",
      "source": [
        "from random import choice"
      ],
      "metadata": {
        "id": "a2zJCXNUND9X"
      },
      "execution_count": 7,
      "outputs": []
    },
    {
      "cell_type": "code",
      "source": [
        "estudiante = choice(estudiantes2)\n",
        "estudiante"
      ],
      "metadata": {
        "id": "VHU_EOKng5t6",
        "outputId": "f4a7a245-5133-4382-828f-48c7f93a4010",
        "colab": {
          "base_uri": "https://localhost:8080/",
          "height": 35
        }
      },
      "execution_count": 14,
      "outputs": [
        {
          "output_type": "execute_result",
          "data": {
            "text/plain": [
              "'Érica'"
            ],
            "application/vnd.google.colaboratory.intrinsic+json": {
              "type": "string"
            }
          },
          "metadata": {},
          "execution_count": 14
        }
      ]
    },
    {
      "cell_type": "code",
      "source": [
        "help(choice)"
      ],
      "metadata": {
        "id": "2Yvr71PIND_r",
        "colab": {
          "base_uri": "https://localhost:8080/"
        },
        "outputId": "c0c07d96-aac7-45ee-d5a7-8fd1caa2f848"
      },
      "execution_count": 15,
      "outputs": [
        {
          "output_type": "stream",
          "name": "stdout",
          "text": [
            "Help on method choice in module random:\n",
            "\n",
            "choice(seq) method of random.Random instance\n",
            "    Choose a random element from a non-empty sequence.\n",
            "\n"
          ]
        }
      ]
    },
    {
      "cell_type": "code",
      "source": [],
      "metadata": {
        "id": "UFfZz4CxNGjU"
      },
      "execution_count": null,
      "outputs": []
    },
    {
      "cell_type": "markdown",
      "source": [
        "## <font color=green> 2. FUNCIONES\n",
        "---"
      ],
      "metadata": {
        "id": "2hrSPmlcBwWS"
      }
    },
    {
      "cell_type": "markdown",
      "source": [
        "En Python, las **funciones** son secuencias de instrucciones que ejecutan tareas específicas, permitiendo su reutilización en diferentes partes del código. Estas pueden recibir parámetros de entrada (que también los conocemos como *inputs*) y también retornar resultados."
      ],
      "metadata": {
        "id": "gC4lHsW-DREY"
      }
    },
    {
      "cell_type": "markdown",
      "source": [
        "## 2.1 Built-in function (Función Incorporada)\n",
        "\n",
        "El interpretador de Python contiene una serie de funciones incorporadas que pueden ser invocadas es cualquier momento. Algunas que vamos a utilizar a lo largo de este curso son: `type()`, `print()`, `list()`, `zip()`, `sum()`, `map()`, etc.\n",
        "\n",
        "***Documentación:***\n",
        "https://docs.python.org/es/3/library/functions.html\n"
      ],
      "metadata": {
        "id": "Qr_h1_UNEzHZ"
      }
    },
    {
      "cell_type": "markdown",
      "source": [
        "#### **Situación 1:**\n",
        "\n",
        "La institución educativa para la cual nos encontramos trabajando compartió los datos de las notas de un estudiante para que pudiesemos calcular su promedio con una casilla decimal.\n",
        "\n",
        "Los datos recibidos corresponden a un diccionario cuyas llaves indican el trimestre en cuestión y sus valores corresponden a las notas de cada trimestre del estudiante en una respectiva materia."
      ],
      "metadata": {
        "id": "MMOJIW3TyLIB"
      }
    },
    {
      "cell_type": "code",
      "source": [
        "notas = {'1er Trimestre' : 9.5, '2do Trimestre': 8, '3er Trimestre': 7}"
      ],
      "metadata": {
        "id": "WQ-pCgdaMOlc"
      },
      "execution_count": 16,
      "outputs": []
    },
    {
      "cell_type": "code",
      "source": [
        "suma = 0\n",
        "for s in notas.values():\n",
        "  suma += s\n",
        "print(suma)"
      ],
      "metadata": {
        "id": "GU-HvC-QMOoS",
        "colab": {
          "base_uri": "https://localhost:8080/"
        },
        "outputId": "8ad348ea-f734-4bb3-ece1-b1d53a109257"
      },
      "execution_count": 17,
      "outputs": [
        {
          "output_type": "stream",
          "name": "stdout",
          "text": [
            "24.5\n"
          ]
        }
      ]
    },
    {
      "cell_type": "code",
      "source": [
        "promedio = sum(notas.values()) / len(notas)\n",
        "promedio"
      ],
      "metadata": {
        "id": "qKEyjY2bMOqj",
        "colab": {
          "base_uri": "https://localhost:8080/"
        },
        "outputId": "5a24ad16-854c-43e4-c065-167d4d37c947"
      },
      "execution_count": 19,
      "outputs": [
        {
          "output_type": "execute_result",
          "data": {
            "text/plain": [
              "8.166666666666666"
            ]
          },
          "metadata": {},
          "execution_count": 19
        }
      ]
    },
    {
      "cell_type": "code",
      "source": [
        "promedio = round(promedio,1)\n",
        "promedio"
      ],
      "metadata": {
        "id": "BTBEPGB-j_HL",
        "outputId": "c6d896eb-a4bb-4dd8-c2f4-3e1a19cdf3f4",
        "colab": {
          "base_uri": "https://localhost:8080/"
        }
      },
      "execution_count": 20,
      "outputs": [
        {
          "output_type": "execute_result",
          "data": {
            "text/plain": [
              "8.2"
            ]
          },
          "metadata": {},
          "execution_count": 20
        }
      ]
    },
    {
      "cell_type": "markdown",
      "source": [
        "*Redondear el promedio usando round():*\n",
        "\n",
        "https://docs.python.org/es/3/library/functions.html#round"
      ],
      "metadata": {
        "id": "JD2z3LW8312E"
      }
    },
    {
      "cell_type": "code",
      "source": [],
      "metadata": {
        "id": "c7Cn5XFfMP5E"
      },
      "execution_count": null,
      "outputs": []
    },
    {
      "cell_type": "code",
      "source": [],
      "metadata": {
        "id": "eVNPFr0pMRWl"
      },
      "execution_count": null,
      "outputs": []
    },
    {
      "cell_type": "markdown",
      "source": [
        "## 2.2 Creando funciones"
      ],
      "metadata": {
        "id": "NCUSezOJIdfy"
      }
    },
    {
      "cell_type": "markdown",
      "source": [
        "Tras explorar las funciones incorporadas y aprender cómo utilizar algunas de ellas, es posible que tengas la necesidad de resolver un problema específico y estas no sean suficientes.\n",
        "\n",
        "Por este motivo, necesitaremos crear nuestras propias funciones, y aún más, si necesitamos aplicarlas en varias partes de nuestros códigos."
      ],
      "metadata": {
        "id": "QrTAXwghsg6s"
      }
    },
    {
      "cell_type": "markdown",
      "source": [
        "### Funciones sin parámetros\n",
        "\n",
        "#### Formato estándar:\n",
        "\n",
        "```python\n",
        "def <nombre>():\n",
        "  <instrucciones>\n",
        "```"
      ],
      "metadata": {
        "id": "zxyXiX462A_X"
      }
    },
    {
      "cell_type": "code",
      "source": [],
      "metadata": {
        "id": "WgWoULpnMSrT"
      },
      "execution_count": null,
      "outputs": []
    },
    {
      "cell_type": "code",
      "source": [],
      "metadata": {
        "id": "VKfg0zkDMStp"
      },
      "execution_count": null,
      "outputs": []
    },
    {
      "cell_type": "code",
      "source": [],
      "metadata": {
        "id": "04YIHBu-MTNB"
      },
      "execution_count": null,
      "outputs": []
    },
    {
      "cell_type": "markdown",
      "source": [
        "### Funciones con parámetros\n",
        "\n",
        "#### Formato estándar:\n",
        "\n",
        "```python\n",
        "def <nombre>(<param_1>, <param_2>, ..., <param_n>):\n",
        "  <instrucciones>\n",
        "```"
      ],
      "metadata": {
        "id": "o9AR_DNDFKSD"
      }
    },
    {
      "cell_type": "code",
      "source": [],
      "metadata": {
        "id": "1QHJXCYsMUx3"
      },
      "execution_count": null,
      "outputs": []
    },
    {
      "cell_type": "code",
      "source": [],
      "metadata": {
        "id": "txkkIwheMU0n"
      },
      "execution_count": null,
      "outputs": []
    },
    {
      "cell_type": "code",
      "source": [],
      "metadata": {
        "id": "Pq88ApQEMWK9"
      },
      "execution_count": null,
      "outputs": []
    },
    {
      "cell_type": "markdown",
      "source": [
        "#### **Situación 2:**\n",
        "\n",
        "Recibimos una solicitud para crear una función que calcule el promedio de notas de un estudiante a partir de una lista; que permita alterar la cantidad de notas, y que no implique tener que modificar la función.\n",
        "\n",
        "Los datos recibidos, en esta ocasión, corresponden a una lista que contiene las notas de un mismo estudiante en una determinada materia.\n",
        "\n",
        "notas = 8.5, 9.0, 6.0, 10.0\n",
        "\n",
        "**¿Vamos a resolver este desafío?**\n",
        "\n",
        "Para facilitar nuestra comprensión del proceso, vamos a aplicar las notas de un único estudiante; sin embargo, puedes probar otros casos para practicar."
      ],
      "metadata": {
        "id": "-Umx7n134suz"
      }
    },
    {
      "cell_type": "code",
      "source": [
        "notas = [8.5, 9.0, 6.0, 10.0]"
      ],
      "metadata": {
        "id": "U4MlTO9ucAKc"
      },
      "execution_count": null,
      "outputs": []
    },
    {
      "cell_type": "code",
      "source": [],
      "metadata": {
        "id": "ZrqyDBNFMYOK"
      },
      "execution_count": null,
      "outputs": []
    },
    {
      "cell_type": "code",
      "source": [],
      "metadata": {
        "id": "wEkixagwMY2E"
      },
      "execution_count": null,
      "outputs": []
    },
    {
      "cell_type": "code",
      "source": [],
      "metadata": {
        "id": "60Gvxd9tMa5d"
      },
      "execution_count": null,
      "outputs": []
    },
    {
      "cell_type": "markdown",
      "source": [
        "<font color=red>**Atención!**</font>\n",
        "Cuando utilizamos funciones, necesitamos prestar atención a una propiedad llamada **Alcance de una función**. Esta propiedad determina dónde una variable puede ser utilizada dentro del código. Por ejemplo, una variable creada dentro de una función existirá únicamente dentro de esta función. O sea, cuando finaliza la ejecución de una función, la variable no estará disponible para el usuario en el resto del código."
      ],
      "metadata": {
        "id": "skMq7d0_xHND"
      }
    },
    {
      "cell_type": "code",
      "source": [],
      "metadata": {
        "id": "yTOqJSgsMbdJ"
      },
      "execution_count": null,
      "outputs": []
    },
    {
      "cell_type": "markdown",
      "source": [
        "## 2.3 Funciones que retornan valores\n",
        "\n",
        "#### Formato estándar:\n",
        "\n",
        "```python\n",
        "def <nombre>(<param_1>, <param_2>, ..., <param_n>):\n",
        "  <instrucciones>\n",
        "  return resultado\n",
        "```"
      ],
      "metadata": {
        "id": "-oDFGKcA52kG"
      }
    },
    {
      "cell_type": "markdown",
      "source": [
        "Retomando la actividad anterior, podemos retornar y guardar el valor del promedio de la siguiente forma:"
      ],
      "metadata": {
        "id": "DxvT_uItbQ-q"
      }
    },
    {
      "cell_type": "code",
      "source": [
        "# Notas del estudiante\n",
        "notas = [8.5, 9.0, 6.0, 10.0]"
      ],
      "metadata": {
        "id": "GlWdnX7Ubgl3"
      },
      "execution_count": null,
      "outputs": []
    },
    {
      "cell_type": "code",
      "source": [],
      "metadata": {
        "id": "JdMFsT9GMgI6"
      },
      "execution_count": null,
      "outputs": []
    },
    {
      "cell_type": "code",
      "source": [],
      "metadata": {
        "id": "p7AwNnTCMgLf"
      },
      "execution_count": null,
      "outputs": []
    },
    {
      "cell_type": "code",
      "source": [],
      "metadata": {
        "id": "35zC247QMgRP"
      },
      "execution_count": null,
      "outputs": []
    },
    {
      "cell_type": "code",
      "source": [],
      "metadata": {
        "id": "TjmB8IWpMgV4"
      },
      "execution_count": null,
      "outputs": []
    },
    {
      "cell_type": "markdown",
      "source": [
        "#### **Situación 3:**\n",
        "\n",
        "Recibimos una nueva solicitud. Debemos calcular el promedio de un estudiante a partir de una lista y retornar tanto el promedio como la situación del estudiante (\"Aprobado(a)\" si la nota es mayor o igual a 7.0, en caso contrario, será \"Reprobado(a)\").\n",
        "\n",
        "Además de ello, necesitamos exhibir un pequeño texto para indicar el promedio del estudiante y cuál es su situación. Los datos recibidos corresponden a una lista que contiene apenas las notas de un estudiante en una materia determinada.\n",
        "\n",
        "**¿Vamos a resolver este desafío?**\n",
        "\n",
        "Para facilitar nuestra comprensión del proceso, vamos a aplicar las notas de un único estudiante; sin embargo, puedes probar otros casos para practicar."
      ],
      "metadata": {
        "id": "_awyOKOH8OOi"
      }
    },
    {
      "cell_type": "code",
      "source": [
        "# Notas del estudiante\n",
        "notas = [8.5, 9.0, 6.0, 10.0]"
      ],
      "metadata": {
        "id": "3saGo2kDf0BY"
      },
      "execution_count": null,
      "outputs": []
    },
    {
      "cell_type": "code",
      "source": [],
      "metadata": {
        "id": "unNLrdFjMjbv"
      },
      "execution_count": null,
      "outputs": []
    },
    {
      "cell_type": "code",
      "source": [],
      "metadata": {
        "id": "Rmvg4hNeMjeD"
      },
      "execution_count": null,
      "outputs": []
    },
    {
      "cell_type": "code",
      "source": [],
      "metadata": {
        "id": "jCYuFpmeMji6"
      },
      "execution_count": null,
      "outputs": []
    },
    {
      "cell_type": "code",
      "source": [],
      "metadata": {
        "id": "hSht0Z2cMjlT"
      },
      "execution_count": null,
      "outputs": []
    },
    {
      "cell_type": "code",
      "source": [],
      "metadata": {
        "id": "tLdjCulMMjnD"
      },
      "execution_count": null,
      "outputs": []
    },
    {
      "cell_type": "markdown",
      "source": [
        "## 2.4 Funciones lambda\n",
        "\n",
        "También se conocen como funciones anónimas, son funciones que no necesitan ser definidas, o sea, no poseen un nombre, y describen en una única fila los comandos que deseamos aplicar.\n",
        "\n",
        "https://docs.python.org/es/3/reference/expressions.html?#lambda\n",
        "\n",
        "#### Formato estándar:\n",
        "\n",
        "```python\n",
        "lambda <variable>: <expresion>\n",
        "```"
      ],
      "metadata": {
        "id": "hwYYRpkZMft5"
      }
    },
    {
      "cell_type": "code",
      "source": [],
      "metadata": {
        "id": "wcNxDJoPMmTJ"
      },
      "execution_count": null,
      "outputs": []
    },
    {
      "cell_type": "code",
      "source": [],
      "metadata": {
        "id": "S-baAoaQMmVy"
      },
      "execution_count": null,
      "outputs": []
    },
    {
      "cell_type": "markdown",
      "source": [
        "#### **Situación 4:**\n",
        "\n",
        "En esta nueva solicitud, necesitamos crear una calculadora simple para obtener el promedio ponderado de notas de una materia determinada. Vamos a pedir que el usuario introduzca 3 notas (N1, N2, N3) del estudiante y devuelva el promedio ponderado de este estudiante. Los pesos de las notas son de, respectivamente 3, 2 y 5.\n",
        "\n",
        "Necesitamos exhibir un pequeño texto para poder indicar el promedio del estudiante.\n",
        "**¿Vamos a resolver este desafío?**\n"
      ],
      "metadata": {
        "id": "AuRWyNXYgD_b"
      }
    },
    {
      "cell_type": "markdown",
      "source": [
        "**Resolviendo nuestro problema:**"
      ],
      "metadata": {
        "id": "vdKk3DRBmtUE"
      }
    },
    {
      "cell_type": "code",
      "source": [],
      "metadata": {
        "id": "6YxEn9aiMnYJ"
      },
      "execution_count": null,
      "outputs": []
    },
    {
      "cell_type": "code",
      "source": [],
      "metadata": {
        "id": "Ptn9gQaPMnaz"
      },
      "execution_count": null,
      "outputs": []
    },
    {
      "cell_type": "markdown",
      "source": [
        "#### **Situación 5:**\n",
        "\n",
        "Ahora, debemos crear una pequeña función que permita dar una nota cualitativa (puntaje extra) a las notas del trimestre de los estudiantes del grupo que ganó el concurso de programación realizado en la institución. Cada estudiante recibirá el cualitativo de 0.5 añadido al promedio.\n",
        "\n",
        "Los datos recibidos corresponden a una lista que contiene las notas de algunos estudiantes y una variable con el cualitativo recibido.\n",
        "\n",
        "**¿Vamos a resolver este desafío?**\n",
        "\n",
        "Para facilitar nuestra comprensión del proceso, vamos a aplicar las notas de 5 estudiantes; sin embargo, puedes probar otros casos para practicar."
      ],
      "metadata": {
        "id": "1qk0gLdfFcbf"
      }
    },
    {
      "cell_type": "code",
      "source": [
        "# Notas del estudiante\n",
        "notas = [6.0, 7.0, 9.0, 5.5, 8.0]\n",
        "cualitativo = 0.5"
      ],
      "metadata": {
        "id": "RdoaWhuVI_OB"
      },
      "execution_count": null,
      "outputs": []
    },
    {
      "cell_type": "code",
      "source": [],
      "metadata": {
        "id": "PzDfbv-kMq2t"
      },
      "execution_count": null,
      "outputs": []
    },
    {
      "cell_type": "code",
      "source": [],
      "metadata": {
        "id": "3YDQ39wFMq5u"
      },
      "execution_count": null,
      "outputs": []
    },
    {
      "cell_type": "markdown",
      "source": [
        "### Mapeando valores\n",
        "\n",
        "#### Formato estándar:\n",
        "\n",
        "```python\n",
        "map(<lambda function>, <iterador>)\n",
        "```"
      ],
      "metadata": {
        "id": "SOK4BC4mmKbG"
      }
    },
    {
      "cell_type": "code",
      "source": [],
      "metadata": {
        "id": "ZbfpvfWJMsjv"
      },
      "execution_count": null,
      "outputs": []
    },
    {
      "cell_type": "code",
      "source": [],
      "metadata": {
        "id": "TA-zGLJfMseA"
      },
      "execution_count": null,
      "outputs": []
    },
    {
      "cell_type": "code",
      "source": [],
      "metadata": {
        "id": "PrAppvR6MuKm"
      },
      "execution_count": null,
      "outputs": []
    },
    {
      "cell_type": "markdown",
      "source": [
        "## <font color=green> 3. ESTRUCTURAS DE DATOS COMPUESTAS\n",
        "---"
      ],
      "metadata": {
        "id": "DoB6wf2JCYf7"
      }
    },
    {
      "cell_type": "markdown",
      "source": [
        "## 3.1 Estructuras anidadas\n",
        "\n",
        "Previamente, aprendimos a manipular las listas, tuplas y diccionarios para trabajar con una secuencia o colección de valores sean numéricos, categóricos, etc. En esta aula, vamos a profundizar en otra situación común para la persona científica de datos que es trabajar con estos tipos de estructuras anidadas, o sea, cuando, por ejemplo, tenemos listas dentro de una lista."
      ],
      "metadata": {
        "id": "3or6MbnZDW_b"
      }
    },
    {
      "cell_type": "markdown",
      "source": [
        "### **Lista de listas**\n",
        "\n",
        "#### Formato estándar:\n",
        "\n",
        "```python\n",
        "[[a1, a2,...,an], [b1, b2,...,bn], ..., [n1, n2,...,nn]]\n",
        "```"
      ],
      "metadata": {
        "id": "fddus1G9HqB3"
      }
    },
    {
      "cell_type": "markdown",
      "source": [
        "#### **Situación 6:**\n",
        "\n",
        "Recibimos la demanda de transformar una lista con el nombre y las notas de tres trimestres de algunos estudiantes en una lista simple, con los nombres separados de las notas, y una lista de listas con las tres notas de cada estudiante separadas entre sí. Los datos recibidos corresponden a una lista con los nombres y las respectivas notas de cada estudiante.\n",
        "\n",
        "**¿Vamos a resolver este desafío?**\n",
        "\n",
        "Para facilitar nuestra comprensión del proceso, vamos a trabajar con un grupo de 5 estudiantes; sin embargo, puedes probar otros casos para practicar.\n"
      ],
      "metadata": {
        "id": "32K5LA11tFpz"
      }
    },
    {
      "cell_type": "code",
      "source": [
        "notas_grupo = ['Juan', 8.0, 9.0, 10.0, 'Maria', 9.0, 7.0, 6.0, 'José', 3.4, 7.0, 7.0, 'Claudia', 5.5, 6.6, 8.0, 'Ana', 6.0, 10.0, 9.5]"
      ],
      "metadata": {
        "id": "jlEP-c2YthpB"
      },
      "execution_count": null,
      "outputs": []
    },
    {
      "cell_type": "code",
      "source": [],
      "metadata": {
        "id": "azR_cX-ILghB"
      },
      "execution_count": null,
      "outputs": []
    },
    {
      "cell_type": "code",
      "source": [],
      "metadata": {
        "id": "GhfsJvs9LgjY"
      },
      "execution_count": null,
      "outputs": []
    },
    {
      "cell_type": "code",
      "source": [],
      "metadata": {
        "id": "tB8FA20gLiog"
      },
      "execution_count": null,
      "outputs": []
    },
    {
      "cell_type": "code",
      "source": [],
      "metadata": {
        "id": "SCi8Jl82Liqo"
      },
      "execution_count": null,
      "outputs": []
    },
    {
      "cell_type": "markdown",
      "source": [
        "### **Lista de tuplas**\n",
        "\n",
        "#### Formato estándar:\n",
        "\n",
        "```python\n",
        "[(a1, a2,...,an), (b1, b2,...,bn), ..., (n1, n2,...,nn)]\n",
        "```"
      ],
      "metadata": {
        "id": "SW0sVg68sK_z"
      }
    },
    {
      "cell_type": "markdown",
      "source": [
        "#### **Situación 7:**\n",
        "\n",
        "Necesitamos generar una lista de tuplas con los nombres de los estudiantes y el código ID de cada uno de ellos para la plataforma de análisis de datos. La creación del código consiste en concatenar la primera letra del nombre del estudiante con un número aleatorio de 0 a 999. Los datos recibidos corresponden a una lista con los nombres de cada estudiante.\n",
        "\n",
        "**¿Vamos a resolver este desafío?**\n",
        "\n",
        "Para facilitar nuestra comprensión del proceso, vamos a trabajar con un grupo de 5 estudiantes; sin embargo, puedes probar otros casos para practicar.\n"
      ],
      "metadata": {
        "id": "OId6jAZz5x2m"
      }
    },
    {
      "cell_type": "code",
      "source": [],
      "metadata": {
        "id": "YA1zJ0G6LkTy"
      },
      "execution_count": null,
      "outputs": []
    },
    {
      "cell_type": "code",
      "source": [],
      "metadata": {
        "id": "yBzPwhGiLkWa"
      },
      "execution_count": null,
      "outputs": []
    },
    {
      "cell_type": "code",
      "source": [],
      "metadata": {
        "id": "9qgGAjSyLndK"
      },
      "execution_count": null,
      "outputs": []
    },
    {
      "cell_type": "code",
      "source": [],
      "metadata": {
        "id": "jVRxtOyeLngM"
      },
      "execution_count": null,
      "outputs": []
    },
    {
      "cell_type": "markdown",
      "source": [
        "## 3.2 List comprehension\n",
        "\n",
        "Es una forma simple y concisa de crear una lista. Podemos aplicar condicionales y lazos para crear diversos tipos de listas a partir de patrones que deseamos para nuestra estructura de datos.\n",
        "\n",
        "https://docs.python.org/es/3/tutorial/datastructures.html?#list-comprehensions\n",
        "\n",
        "#### Formato estándar:\n",
        "\n",
        "```python\n",
        "[expresion for item in lista]\n",
        "```"
      ],
      "metadata": {
        "id": "srHAov19QCdb"
      }
    },
    {
      "cell_type": "markdown",
      "source": [
        "#### **Situación 8:**\n",
        "\n",
        "Recibimos la demanda de crear una lista con el promedio de los estudiantes de la lista de listas que creamos en la Situación 6, redondeando el promedio a una casilla decimal. Recordando que cada lista de la lista de listas contiene las tres notas de cada estudiante.\n",
        "\n",
        "**¿Vamos a resolver este desafío?**\n",
        "\n",
        "**Tip:** Utiliza el formato:\n",
        "```python\n",
        "[expresion for item in lista]\n",
        "```"
      ],
      "metadata": {
        "id": "l4HW0gDqecgM"
      }
    },
    {
      "cell_type": "code",
      "source": [
        "def promedio(lista: list=[0]) -> float:\n",
        "  ''' Función para calcular el promedio de notas en una lista\n",
        "\n",
        "  lista: list, default [0]\n",
        "    Lista con las notas para calcular el promedio\n",
        "  return = calculo: float\n",
        "    Promedio calculado\n",
        "  '''\n",
        "\n",
        "  calculo = sum(lista) / len(lista)\n",
        "\n",
        "  return calculo"
      ],
      "metadata": {
        "id": "J_atQRQdlpNe"
      },
      "execution_count": null,
      "outputs": []
    },
    {
      "cell_type": "code",
      "source": [],
      "metadata": {
        "id": "h7LeBrgnLAG6"
      },
      "execution_count": null,
      "outputs": []
    },
    {
      "cell_type": "code",
      "source": [],
      "metadata": {
        "id": "3j8_H7e8LAJZ"
      },
      "execution_count": null,
      "outputs": []
    },
    {
      "cell_type": "markdown",
      "source": [
        "#### **Situación 9:**\n",
        "\n",
        "Ahora, necesitamos utilizar los promedios calculados en el ejemplo anterior, y agruparlos con el nombre de los respectivos estudiantes. Esto será necesario para generar una lista que seleccione a aquellos estudiantes que posean un promedio final mayor o igual a 8 para concursar por una beca de estudios para el próximo año lectivo. Los datos recibidos corresponden a una lista de tuplas con los nombres y los códigos de los estudiantes junto a la lista de promedios calculados previamente.\n",
        "\n",
        "**Nota: El número de código será diferente cada vez que se ejecute la celda que los genera, por lo tanto, es completamente normal que estos códigos sean diferentes.**\n",
        "\n",
        "**¿Vamos a resolver este desafío?**\n",
        "\n",
        "Para facilitar nuestra comprensión del proceso vamos a trabajar con un grupo de 5 estudiantes.\n",
        "\n",
        "**Tip:** Utiliza el formato:\n",
        "\n",
        "```python\n",
        "[expresion for item in lista if condicion]\n",
        "```"
      ],
      "metadata": {
        "id": "ApLjXlAdhJKd"
      }
    },
    {
      "cell_type": "code",
      "source": [],
      "metadata": {
        "id": "QK-ubmmrLC7I"
      },
      "execution_count": null,
      "outputs": []
    },
    {
      "cell_type": "code",
      "source": [],
      "metadata": {
        "id": "df1Q8GGELC9b"
      },
      "execution_count": null,
      "outputs": []
    },
    {
      "cell_type": "markdown",
      "source": [
        "<font color=green>**Tip:**</font> Para lograr parear los promedios y\n",
        "los nombres fácilmente, podemos acudir a otra  built-in function: `zip()`\n",
        "\n",
        "Esta recibe uno o más iterables (lista, string, dict, etc.) y los retorna como un iterador de tuplas donde cada elemento de los iterables es pareado."
      ],
      "metadata": {
        "id": "U6KAABs7Dfpe"
      }
    },
    {
      "cell_type": "code",
      "source": [],
      "metadata": {
        "id": "841v92WvLEol"
      },
      "execution_count": null,
      "outputs": []
    },
    {
      "cell_type": "code",
      "source": [],
      "metadata": {
        "id": "U8b4G_2oLErp"
      },
      "execution_count": null,
      "outputs": []
    },
    {
      "cell_type": "markdown",
      "source": [
        "#### **Situación 10:**\n",
        "\n",
        "Recibimos dos demandas sobre este proyecto con las notas de los estudiantes:\n",
        "- Crear una lista de la situación de los estudiantes considerando los siguientes casos: Si su promedio es mayor o igual a 7, recibirá el valor \"Aprobado\" y en caso contrario recibirá el valor \"Reprobado\".\n",
        "- Generar una lista de listas con:\n",
        "  - Lista de tuplas con el nombre de los estudiantes y sus códigos\n",
        "  - Lista de listas con las notas de cada estudiante\n",
        "  - Lista con los promedios de cada estudiante\n",
        "  - Lista de la situación de los estudiantes de acuerdo con los promedios\n",
        "\n",
        "Los datos que utilizaremos son los mismos que generamos en las situaciones anteriores (`nombres`, `notas`, `promedios`).\n",
        "\n",
        "**¿Vamos a resolver este desafío?**\n",
        "\n",
        "Para avanzar en el proceso, vamos a dejar escritas las estructuras de datos que ya produjimos.\n",
        "\n",
        "**Tip:** Para la lista de las situaciones utiliza el formato:\n",
        "```python\n",
        "[resultado_if if condicion else resultado_else for item in lista]\n",
        "```"
      ],
      "metadata": {
        "id": "9yzRDIB0fkeF"
      }
    },
    {
      "cell_type": "code",
      "source": [],
      "metadata": {
        "id": "YGQIaCzkLGqd"
      },
      "execution_count": null,
      "outputs": []
    },
    {
      "cell_type": "code",
      "source": [],
      "metadata": {
        "id": "OAAQHwE1LGs2"
      },
      "execution_count": null,
      "outputs": []
    },
    {
      "cell_type": "markdown",
      "source": [
        "**Tip:** Para generar la lista de listas del enunciado podemos utilizar el siguiente formato:\n",
        "```python\n",
        "[expresion for item in lista de listas]\n",
        "```"
      ],
      "metadata": {
        "id": "0XsAi49IF9Ta"
      }
    },
    {
      "cell_type": "code",
      "source": [],
      "metadata": {
        "id": "1Dj6R1vTLIbI"
      },
      "execution_count": null,
      "outputs": []
    },
    {
      "cell_type": "code",
      "source": [],
      "metadata": {
        "id": "cTLEQQ2eLIqc"
      },
      "execution_count": null,
      "outputs": []
    },
    {
      "cell_type": "markdown",
      "source": [
        "<font color=green>**Tip:**</font> Podemos acudir a la forma más simple de generación de lista de listas con el uso directo de los corchetes sin la necesidad de utilizar las expresiones y el lazo `for` que se emplea en la comprensión de listas."
      ],
      "metadata": {
        "id": "4hkHEZGbGH7X"
      }
    },
    {
      "cell_type": "code",
      "source": [],
      "metadata": {
        "id": "1tEtWzSoLKKg"
      },
      "execution_count": null,
      "outputs": []
    },
    {
      "cell_type": "code",
      "source": [],
      "metadata": {
        "id": "lRk02Bm5LMB3"
      },
      "execution_count": null,
      "outputs": []
    },
    {
      "cell_type": "markdown",
      "source": [
        "## 3.3 Dict comprehension\n",
        "\n",
        "Es una forma simple y concisa de crear o modificar un diccionario. Podemos aplicar condicionales y lazos para crear diversos tipos de diccionarios a partir de los patrones que buscamos para nuestra estructura de datos y con el soporte de iterables como listas o sets.\n",
        "\n",
        "https://peps.python.org/pep-0274/\n",
        "\n",
        "#### Formato estándar:\n",
        "\n",
        "```python\n",
        "{llave: valor for item in lista}\n",
        "```"
      ],
      "metadata": {
        "id": "NmohhDl-QRpx"
      }
    },
    {
      "cell_type": "markdown",
      "source": [
        "#### **Situación 11:**\n",
        "\n",
        "Ahora, nuestra demanda consiste en generar un diccionario a partir de la lista de listas que creamos en la Situación 10 para entregar a la persona responsable por construir las tablas para el análisis de los datos.\n",
        "- Las llaves de nuestro diccionario serán las columnas identificando el tipo de dato\n",
        "- Los valores serán las listas con los datos correspondientes a aquella llave.\n",
        "\n",
        "**¿Vamos a resolver este desafío?**\n",
        "\n",
        "Para facilitar nuestra comprensión del proceso vamos a trabajar con un grupo de 5 estudiantes.\n",
        "\n",
        "**Tip:** Utiliza el formato\n",
        "\n",
        "```python\n",
        "{llave: valor for item in lista}\n",
        "```"
      ],
      "metadata": {
        "id": "kGt8hQXOKeIt"
      }
    },
    {
      "cell_type": "code",
      "source": [],
      "metadata": {
        "id": "GuTwYw8NLNST"
      },
      "execution_count": null,
      "outputs": []
    },
    {
      "cell_type": "code",
      "source": [],
      "metadata": {
        "id": "Ka1JPCuvLP4x"
      },
      "execution_count": null,
      "outputs": []
    },
    {
      "cell_type": "code",
      "source": [],
      "metadata": {
        "id": "4GhlzfLbLP8L"
      },
      "execution_count": null,
      "outputs": []
    },
    {
      "cell_type": "markdown",
      "source": [
        "## <font color=green> 4. LIDIANDO CON EXCEPCIONES\n",
        "---"
      ],
      "metadata": {
        "id": "RxKC5WVoCYp3"
      }
    },
    {
      "cell_type": "markdown",
      "source": [
        "Hemos podido evidenciar hasta aquí la existencia de algunos errores y excepciones en la ejecución de algún comando. Como científico/a de datos o programador, necesitarás estar atento a estas situaciones para evitar bugs o problemas en tus códigos y análisis que puedan afectar la experiencia tanto del usuario como la eficiencia de su análisis.\n",
        "\n",
        "Existen básicamente dos formas distintas de errores: Los **errores de sintáxis** y las **excepciones**.\n",
        "\n",
        "Las excepciones son errores detectados durante la ejecución e interrumpen el flujo del programa cerrándolo en caso de que no sean tratadas.  \n",
        "\n",
        "Vamos a aprender a identificar y tratar algunas de las excepciones aquí, pero es siempre importante consultar la documentación para investigar y verificar cuáles se ajustan a sus proyectos.\n",
        "\n",
        "**Documentación sobre errores y excepciones:** https://docs.python.org/es/3/tutorial/errors.html"
      ],
      "metadata": {
        "id": "MzOZ_0M3CU1x"
      }
    },
    {
      "cell_type": "markdown",
      "source": [
        "## 4.1 Tratando las Excepciones\n",
        "\n",
        "El tratamiento de las excepciones contribuye a establecer un flujo alternativo para la ejecución del código evitando la interrupción de los procesos inesperadamente.\n",
        "\n",
        "Existe una serie de excepciones, y a partir del comportamiento que queremos, y de los errores que queremos tratar, es posible construir un camino para el usuario, o también, proveer más detalles sobre aquella excepción.\n",
        "\n",
        "- Jerarquía de las excepciones (https://docs.python.org/es/3/library/exceptions.html#exception-hierarchy)"
      ],
      "metadata": {
        "id": "x3E66krBST7K"
      }
    },
    {
      "cell_type": "markdown",
      "source": [
        "### Try ... Except\n",
        "\n",
        "```python\n",
        "try:\n",
        "  # código que será ejecutado. En caso de que surja una excepción, para inmediatamente\n",
        "except <nombre_de_la_excepcion as e>:\n",
        "  # Si surje una excepción en el try, ejecuta este código, si no, salta esta etapa\n",
        "```"
      ],
      "metadata": {
        "id": "h9lj8Wfk__cl"
      }
    },
    {
      "cell_type": "markdown",
      "source": [
        "#### **Situación 12:**\n",
        "\n",
        "Creaste un código que lee un diccionario con las notas de los estudiantes y querías retornar la lista de notas de un estudiante.\n",
        "\n",
        "En caso que el/la estudiante no esté matriculado(a) en el grupo debemos tratar la excepción para presentar el mensaje \"Estudiante no matriculado(a) en el grupo\".\n",
        "\n",
        "Vamos a trabajar en este ejemplo con la excepción **Key Error** que interrumpirá el processo de este trecho de código.\n",
        "\n",
        "**¿Vamos a probar este primer tratamiento?**\n",
        "\n"
      ],
      "metadata": {
        "id": "miwzhPNdD8Ty"
      }
    },
    {
      "cell_type": "code",
      "source": [
        "notas = {'Juan': [8.0, 9.0, 10.0], 'Maria': [9.0, 7.0, 6.0], 'José': [3.4, 7.0, 8.0], 'Claudia': [5.5, 6.6, 8.0],\n",
        "         'Ana': [6.0, 10.0, 9.5], 'Jorge': [5.5, 7.5, 9.0], 'Julia': [6.0, 8.0, 7.0], 'Pedro': [3.0, 4.0, 6.0]}"
      ],
      "metadata": {
        "id": "UvVbXY0XVm-f"
      },
      "execution_count": null,
      "outputs": []
    },
    {
      "cell_type": "code",
      "source": [],
      "metadata": {
        "id": "rFBq02dbJtkF"
      },
      "execution_count": null,
      "outputs": []
    },
    {
      "cell_type": "code",
      "source": [],
      "metadata": {
        "id": "IZwxTL1EJvRl"
      },
      "execution_count": null,
      "outputs": []
    },
    {
      "cell_type": "markdown",
      "source": [
        "### Agregando la cláusula Else\n",
        "\n",
        "```python\n",
        "try:\n",
        "  # código que será ejecutado. En caso de que surja una excepción, para inmediatamente\n",
        "except:\n",
        "  # Si surje una excepción en el try, ejecuta este código, si no, salta esta etapa\n",
        "else:\n",
        "  # Si no surjen excepciones, ejecuta esta parte del código\n",
        "```"
      ],
      "metadata": {
        "id": "hKhKzgQoBHLb"
      }
    },
    {
      "cell_type": "markdown",
      "source": [
        "#### **Situación 13:**\n",
        "\n",
        "Creaste un código que lee un diccionario con las notas de los estudiantes y querías retornar la lista de notas de un estudiante.\n",
        "\n",
        "En caso de que el/la estudiante no esté matriculado(a) en la clase, debe aparecer el siguiente mensaje: \"Estudiante no matriculado(a) en el grupo\" y, si no surje la excepción, debemos exhibir la lista con las notas del(la) estudiante.\n",
        "\n",
        "Vamos a trabajar en este ejemplo con la excepción **Key Error** que interrumpirá el proceso de este trecho de código.\n",
        "\n",
        "**¿Vamos a probar este tratamiento?**\n"
      ],
      "metadata": {
        "id": "USN3SA2tMjL0"
      }
    },
    {
      "cell_type": "code",
      "source": [],
      "metadata": {
        "id": "Qr_4-D3UJxcE"
      },
      "execution_count": null,
      "outputs": []
    },
    {
      "cell_type": "code",
      "source": [],
      "metadata": {
        "id": "uy2xPGXoJzXS"
      },
      "execution_count": null,
      "outputs": []
    },
    {
      "cell_type": "markdown",
      "source": [
        "### Añadiendo la cláusula finally\n",
        "\n",
        "```python\n",
        "try:\n",
        "  # código que será ejecutado. En caso de que surja una excepción, para inmediatamente\n",
        "except:\n",
        "  # Si surje una excepción en el try, ejecuta este código, si no, salta esta etapa\n",
        "else:\n",
        "  # Si no surjen excepciones, ejecuta esta parte del código\n",
        "finally:\n",
        "  # Ejecuta este trecho (con o sin excepción)\n",
        "```"
      ],
      "metadata": {
        "id": "Dw_efTlbBhll"
      }
    },
    {
      "cell_type": "markdown",
      "source": [
        "#### **Situación 14:**\n",
        "\n",
        "Creaste un código que lee un diccionario con las notas de los estudiantes y querías retornar la lista de notas de un estudiante.\n",
        "\n",
        "En caso de que el/la estudiante no esté matriculado(a) en la clase, debe aparecer el siguiente mensaje: \"Estudiante no matriculado(a) en el grupo\" y, si no surje la excepción, debemos exhibir la lista con las notas del(la) estudiante. Un texto avisando que \"La consulta ha concluído.\" debe ser mostrado independientemente de si surgió o no alguna excepción.\n",
        "\n",
        "\n",
        "Vamos a trabajar en este ejemplo con la excepción **Key Error** que interrumpirá el proceso de este trecho del código.\n",
        "\n",
        "**¿Vamos a probar este tratamiento?**"
      ],
      "metadata": {
        "id": "jGtFVx5GdnsS"
      }
    },
    {
      "cell_type": "code",
      "source": [],
      "metadata": {
        "id": "PwdLYP_zJ04s"
      },
      "execution_count": null,
      "outputs": []
    },
    {
      "cell_type": "code",
      "source": [],
      "metadata": {
        "id": "pv0BaQ95J1BA"
      },
      "execution_count": null,
      "outputs": []
    },
    {
      "cell_type": "markdown",
      "source": [
        "## 4.2 Raise\n",
        "\n",
        "Otra forma de trabajar con las excepciones en tu código, es generando tus propias excepciones para determinados comportamientos que deseas en tu código.\n",
        "\n",
        "Para ello, utilizamos la palabra clave `raise` junto al tipo de excepción que se desea mostrar y el mensaje que será exhibido.   "
      ],
      "metadata": {
        "id": "HdjllLBpST_2"
      }
    },
    {
      "cell_type": "markdown",
      "source": [
        "```python\n",
        "raise NombreDelError(\"Mensaje deseado.\")\n",
        "```"
      ],
      "metadata": {
        "id": "_nIOnDQufv6Z"
      }
    },
    {
      "cell_type": "markdown",
      "source": [
        "#### **Situação 15:**\n",
        "\n",
        "Creaste una función para calcular el promedio de un estudiante en una determinada materia pasando en una lista las notas de este estudiante.\n",
        "\n",
        "Pretendes tratar 2 situaciones:\n",
        "\n",
        "- Si la lista posee un valor no numérico el cálculo de promedio no será ejecutado y un mensaje de \"No fue posible calcular el promedio del(la) estudiante. Solo se admiten valores numéricos!\" será exhibido.\n",
        "\n",
        "- En caso que la lista tenga más de 4 notas, surgirá una excepción del tipo **ValueError** informando que \"La lista no puede poseer más de 4 notas.\"\n",
        "\n",
        "Un texto avisando que \"La consulta ha concluído.\" debe ser mostrado independientemente de si surgió o no alguna excepción.\n",
        "\n",
        "**¿Vamos a resolver este desafío?**"
      ],
      "metadata": {
        "id": "xapeB2ivgB7R"
      }
    },
    {
      "cell_type": "code",
      "source": [
        "def promedio(lista: list=[0]) -> float:\n",
        "  ''' Función para calcular el promedio de notas en una lista\n",
        "\n",
        "  lista: list, default [0]\n",
        "    Lista con las notas para calcular el promedio\n",
        "  return = calculo: float\n",
        "    Promedio calculado\n",
        "  '''\n",
        "\n",
        "  calculo = sum(lista) / len(lista)\n",
        "\n",
        "  return calculo"
      ],
      "metadata": {
        "id": "kKeFuHUfhSfa"
      },
      "execution_count": null,
      "outputs": []
    },
    {
      "cell_type": "code",
      "source": [],
      "metadata": {
        "id": "_ghW6hb9KBpU"
      },
      "execution_count": null,
      "outputs": []
    },
    {
      "cell_type": "code",
      "source": [],
      "metadata": {
        "id": "X2To8kJdKGFk"
      },
      "execution_count": null,
      "outputs": []
    },
    {
      "cell_type": "code",
      "source": [],
      "metadata": {
        "id": "nrCsWqX6KGIA"
      },
      "execution_count": null,
      "outputs": []
    }
  ]
}